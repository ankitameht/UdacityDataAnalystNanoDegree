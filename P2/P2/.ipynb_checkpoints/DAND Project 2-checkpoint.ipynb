{
 "cells": [
  {
   "cell_type": "markdown",
   "metadata": {},
   "source": [
    "# Data Analyst NanoDegree\n",
    "# Project 2"
   ]
  },
  {
   "cell_type": "markdown",
   "metadata": {},
   "source": [
    "# Dataset: Titanic\n",
    " Link: https://d17h27t6h515a5.cloudfront.net/topher/2016/September/57e9a84c_titanic-data/titanic-data.csv  \n",
    " Description: https://www.kaggle.com/c/titanic/data  \n",
    " Outcome: To predict survival on Titanic."
   ]
  },
  {
   "cell_type": "markdown",
   "metadata": {},
   "source": [
    "# 1. Analyze Your Data"
   ]
  },
  {
   "cell_type": "markdown",
   "metadata": {},
   "source": [
    "## Questions:"
   ]
  },
  {
   "cell_type": "markdown",
   "metadata": {},
   "source": [
    "   1) What factors lead to survival on Titanic? Is it a particular type of gender (According to Kaggle women were more likely to survive than males), or a particlar age group (as a preference, children were sent in boats first), or is it a particular class of people (Upper class or lower class)?    \n",
    "    2) How does family relations(siblings, parents, etc.) affect the rate of survival?  \n",
    "    3) Is there a significance of Port of Embarkation on suvival which is not so evident just by look at the data columns?"
   ]
  },
  {
   "cell_type": "markdown",
   "metadata": {},
   "source": [
    "# 2. Data Wrangling"
   ]
  },
  {
   "cell_type": "markdown",
   "metadata": {},
   "source": [
    "## 2.1 Importing essential packages"
   ]
  },
  {
   "cell_type": "code",
   "execution_count": 108,
   "metadata": {
    "collapsed": false
   },
   "outputs": [
    {
     "name": "stdout",
     "output_type": "stream",
     "text": [
      "import done\n"
     ]
    }
   ],
   "source": [
    "import pandas as pd\n",
    "import numpy as np\n",
    "import matplotlib.pyplot as plt\n",
    "#import seaborn as sns\n",
    "import plotly.plotly as py\n",
    "import plotly.tools as tls\n",
    "%matplotlib inline\n",
    "print \"import done\""
   ]
  },
  {
   "cell_type": "markdown",
   "metadata": {},
   "source": [
    "## 2.2 Reading DataFrame"
   ]
  },
  {
   "cell_type": "code",
   "execution_count": 4,
   "metadata": {
    "collapsed": false
   },
   "outputs": [],
   "source": [
    "# Read csv into Pandas Dataframe and store in dataset variable\n",
    "titanic_df = pd.read_csv('titanic-data.csv')"
   ]
  },
  {
   "cell_type": "markdown",
   "metadata": {},
   "source": [
    "## 2.3 Investing DataSet"
   ]
  },
  {
   "cell_type": "code",
   "execution_count": 5,
   "metadata": {
    "collapsed": false,
    "scrolled": false
   },
   "outputs": [
    {
     "name": "stdout",
     "output_type": "stream",
     "text": [
      "<class 'pandas.core.frame.DataFrame'>\n",
      "RangeIndex: 891 entries, 0 to 890\n",
      "Data columns (total 12 columns):\n",
      "PassengerId    891 non-null int64\n",
      "Survived       891 non-null int64\n",
      "Pclass         891 non-null int64\n",
      "Name           891 non-null object\n",
      "Sex            891 non-null object\n",
      "Age            714 non-null float64\n",
      "SibSp          891 non-null int64\n",
      "Parch          891 non-null int64\n",
      "Ticket         891 non-null object\n",
      "Fare           891 non-null float64\n",
      "Cabin          204 non-null object\n",
      "Embarked       889 non-null object\n",
      "dtypes: float64(2), int64(5), object(5)\n",
      "memory usage: 83.6+ KB\n"
     ]
    }
   ],
   "source": [
    "# Print the information of data\n",
    "titanic_df.info()"
   ]
  },
  {
   "cell_type": "markdown",
   "metadata": {},
   "source": [
    "The Dataset 'titanic-data.csv' has 891 crows with 12 columns. Notice that the info for Age, Cabin, & Embarked has fewer data values, or there are missing values in these columns. The Data set has very less prorortion of missing values which means this should not affect the results much. Although, we must find ways to fill these missing values."
   ]
  },
  {
   "cell_type": "code",
   "execution_count": 6,
   "metadata": {
    "collapsed": false
   },
   "outputs": [
    {
     "data": {
      "text/html": [
       "<div>\n",
       "<table border=\"1\" class=\"dataframe\">\n",
       "  <thead>\n",
       "    <tr style=\"text-align: right;\">\n",
       "      <th></th>\n",
       "      <th>PassengerId</th>\n",
       "      <th>Survived</th>\n",
       "      <th>Pclass</th>\n",
       "      <th>Name</th>\n",
       "      <th>Sex</th>\n",
       "      <th>Age</th>\n",
       "      <th>SibSp</th>\n",
       "      <th>Parch</th>\n",
       "      <th>Ticket</th>\n",
       "      <th>Fare</th>\n",
       "      <th>Cabin</th>\n",
       "      <th>Embarked</th>\n",
       "    </tr>\n",
       "  </thead>\n",
       "  <tbody>\n",
       "    <tr>\n",
       "      <th>0</th>\n",
       "      <td>1</td>\n",
       "      <td>0</td>\n",
       "      <td>3</td>\n",
       "      <td>Braund, Mr. Owen Harris</td>\n",
       "      <td>male</td>\n",
       "      <td>22.0</td>\n",
       "      <td>1</td>\n",
       "      <td>0</td>\n",
       "      <td>A/5 21171</td>\n",
       "      <td>7.2500</td>\n",
       "      <td>NaN</td>\n",
       "      <td>S</td>\n",
       "    </tr>\n",
       "    <tr>\n",
       "      <th>1</th>\n",
       "      <td>2</td>\n",
       "      <td>1</td>\n",
       "      <td>1</td>\n",
       "      <td>Cumings, Mrs. John Bradley (Florence Briggs Th...</td>\n",
       "      <td>female</td>\n",
       "      <td>38.0</td>\n",
       "      <td>1</td>\n",
       "      <td>0</td>\n",
       "      <td>PC 17599</td>\n",
       "      <td>71.2833</td>\n",
       "      <td>C85</td>\n",
       "      <td>C</td>\n",
       "    </tr>\n",
       "    <tr>\n",
       "      <th>2</th>\n",
       "      <td>3</td>\n",
       "      <td>1</td>\n",
       "      <td>3</td>\n",
       "      <td>Heikkinen, Miss. Laina</td>\n",
       "      <td>female</td>\n",
       "      <td>26.0</td>\n",
       "      <td>0</td>\n",
       "      <td>0</td>\n",
       "      <td>STON/O2. 3101282</td>\n",
       "      <td>7.9250</td>\n",
       "      <td>NaN</td>\n",
       "      <td>S</td>\n",
       "    </tr>\n",
       "    <tr>\n",
       "      <th>3</th>\n",
       "      <td>4</td>\n",
       "      <td>1</td>\n",
       "      <td>1</td>\n",
       "      <td>Futrelle, Mrs. Jacques Heath (Lily May Peel)</td>\n",
       "      <td>female</td>\n",
       "      <td>35.0</td>\n",
       "      <td>1</td>\n",
       "      <td>0</td>\n",
       "      <td>113803</td>\n",
       "      <td>53.1000</td>\n",
       "      <td>C123</td>\n",
       "      <td>S</td>\n",
       "    </tr>\n",
       "    <tr>\n",
       "      <th>4</th>\n",
       "      <td>5</td>\n",
       "      <td>0</td>\n",
       "      <td>3</td>\n",
       "      <td>Allen, Mr. William Henry</td>\n",
       "      <td>male</td>\n",
       "      <td>35.0</td>\n",
       "      <td>0</td>\n",
       "      <td>0</td>\n",
       "      <td>373450</td>\n",
       "      <td>8.0500</td>\n",
       "      <td>NaN</td>\n",
       "      <td>S</td>\n",
       "    </tr>\n",
       "  </tbody>\n",
       "</table>\n",
       "</div>"
      ],
      "text/plain": [
       "   PassengerId  Survived  Pclass  \\\n",
       "0            1         0       3   \n",
       "1            2         1       1   \n",
       "2            3         1       3   \n",
       "3            4         1       1   \n",
       "4            5         0       3   \n",
       "\n",
       "                                                Name     Sex   Age  SibSp  \\\n",
       "0                            Braund, Mr. Owen Harris    male  22.0      1   \n",
       "1  Cumings, Mrs. John Bradley (Florence Briggs Th...  female  38.0      1   \n",
       "2                             Heikkinen, Miss. Laina  female  26.0      0   \n",
       "3       Futrelle, Mrs. Jacques Heath (Lily May Peel)  female  35.0      1   \n",
       "4                           Allen, Mr. William Henry    male  35.0      0   \n",
       "\n",
       "   Parch            Ticket     Fare Cabin Embarked  \n",
       "0      0         A/5 21171   7.2500   NaN        S  \n",
       "1      0          PC 17599  71.2833   C85        C  \n",
       "2      0  STON/O2. 3101282   7.9250   NaN        S  \n",
       "3      0            113803  53.1000  C123        S  \n",
       "4      0            373450   8.0500   NaN        S  "
      ]
     },
     "execution_count": 6,
     "metadata": {},
     "output_type": "execute_result"
    }
   ],
   "source": [
    "# View the first 5 rows of the dataframe to understand each columns format\n",
    "titanic_df.head()"
   ]
  },
  {
   "cell_type": "code",
   "execution_count": 7,
   "metadata": {
    "collapsed": false
   },
   "outputs": [
    {
     "name": "stdout",
     "output_type": "stream",
     "text": [
      "PassengerId:\t <type 'numpy.int64'>\n",
      "Survived:\t <type 'numpy.int64'>\n",
      "Pclass:\t <type 'numpy.int64'>\n",
      "Name:\t <type 'str'>\n",
      "Sex:\t <type 'str'>\n",
      "Age:\t <type 'numpy.float64'>\n",
      "SibSp:\t <type 'numpy.int64'>\n",
      "Parch:\t <type 'numpy.int64'>\n",
      "Ticket:\t <type 'str'>\n",
      "Fare:\t <type 'numpy.float64'>\n",
      "Cabin:\t <type 'float'>\n",
      "Embarked:\t <type 'str'>\n"
     ]
    }
   ],
   "source": [
    "# What is the data type of each Data Column in the dataframe\n",
    "def displayDataType(ColumnName):\n",
    "    print ColumnName+\":\\t \"+str(type(titanic_df[ColumnName][0]))\n",
    "\n",
    "# Lets use the function to display the data type of each of the columns as processed by pandas\n",
    "displayDataType('PassengerId')\n",
    "displayDataType('Survived')\n",
    "displayDataType('Pclass')\n",
    "displayDataType('Name')\n",
    "displayDataType('Sex')\n",
    "displayDataType('Age')\n",
    "displayDataType('SibSp')\n",
    "displayDataType('Parch')\n",
    "displayDataType('Ticket')\n",
    "displayDataType('Fare')\n",
    "displayDataType('Cabin')\n",
    "displayDataType('Embarked')"
   ]
  },
  {
   "cell_type": "markdown",
   "metadata": {},
   "source": [
    "Looking at the columns, first few rows and data type of each column, this dataframe needs some basic formatting/cleaning before we can perform it better. For e.g. notice that cabin is stored as 'float' type which should be 'string'."
   ]
  },
  {
   "cell_type": "markdown",
   "metadata": {},
   "source": [
    "## 2.4 Cleaning Data"
   ]
  },
  {
   "cell_type": "markdown",
   "metadata": {},
   "source": [
    "### 2.4.1 Filling missing Age values\n",
    "Age column has (891-714) 177 missing values. Although age is hard to guess in our data, replacing missing or NaN age values with median age values seems a good option."
   ]
  },
  {
   "cell_type": "code",
   "execution_count": 8,
   "metadata": {
    "collapsed": false
   },
   "outputs": [],
   "source": [
    "# Replacing NaN ages with median\n",
    "median_age = titanic_df['Age'].dropna().median()\n",
    "# using pandas fillna() function to inplace change each NA values.\n",
    "titanic_df['Age'].fillna(median_age, inplace=True)"
   ]
  },
  {
   "cell_type": "markdown",
   "metadata": {},
   "source": [
    "### 2.4.2 Filling missing Embarked Values"
   ]
  },
  {
   "cell_type": "code",
   "execution_count": 9,
   "metadata": {
    "collapsed": false
   },
   "outputs": [
    {
     "data": {
      "text/html": [
       "<div>\n",
       "<table border=\"1\" class=\"dataframe\">\n",
       "  <thead>\n",
       "    <tr style=\"text-align: right;\">\n",
       "      <th></th>\n",
       "      <th>PassengerId</th>\n",
       "      <th>Survived</th>\n",
       "      <th>Pclass</th>\n",
       "      <th>Name</th>\n",
       "      <th>Sex</th>\n",
       "      <th>Age</th>\n",
       "      <th>SibSp</th>\n",
       "      <th>Parch</th>\n",
       "      <th>Ticket</th>\n",
       "      <th>Fare</th>\n",
       "      <th>Cabin</th>\n",
       "      <th>Embarked</th>\n",
       "    </tr>\n",
       "  </thead>\n",
       "  <tbody>\n",
       "    <tr>\n",
       "      <th>61</th>\n",
       "      <td>62</td>\n",
       "      <td>1</td>\n",
       "      <td>1</td>\n",
       "      <td>Icard, Miss. Amelie</td>\n",
       "      <td>female</td>\n",
       "      <td>38.0</td>\n",
       "      <td>0</td>\n",
       "      <td>0</td>\n",
       "      <td>113572</td>\n",
       "      <td>80.0</td>\n",
       "      <td>B28</td>\n",
       "      <td>NaN</td>\n",
       "    </tr>\n",
       "    <tr>\n",
       "      <th>829</th>\n",
       "      <td>830</td>\n",
       "      <td>1</td>\n",
       "      <td>1</td>\n",
       "      <td>Stone, Mrs. George Nelson (Martha Evelyn)</td>\n",
       "      <td>female</td>\n",
       "      <td>62.0</td>\n",
       "      <td>0</td>\n",
       "      <td>0</td>\n",
       "      <td>113572</td>\n",
       "      <td>80.0</td>\n",
       "      <td>B28</td>\n",
       "      <td>NaN</td>\n",
       "    </tr>\n",
       "  </tbody>\n",
       "</table>\n",
       "</div>"
      ],
      "text/plain": [
       "     PassengerId  Survived  Pclass                                       Name  \\\n",
       "61            62         1       1                        Icard, Miss. Amelie   \n",
       "829          830         1       1  Stone, Mrs. George Nelson (Martha Evelyn)   \n",
       "\n",
       "        Sex   Age  SibSp  Parch  Ticket  Fare Cabin Embarked  \n",
       "61   female  38.0      0      0  113572  80.0   B28      NaN  \n",
       "829  female  62.0      0      0  113572  80.0   B28      NaN  "
      ]
     },
     "execution_count": 9,
     "metadata": {},
     "output_type": "execute_result"
    }
   ],
   "source": [
    "# Printing the two rows of missing Port of Embarkation\n",
    "titanic_df[titanic_df['Embarked'].isnull()]"
   ]
  },
  {
   "cell_type": "markdown",
   "metadata": {},
   "source": [
    "Notice both these are females with same ticket no and cabin. Lets find out if they did share their cabin or ticket with someone else?"
   ]
  },
  {
   "cell_type": "code",
   "execution_count": 10,
   "metadata": {
    "collapsed": false
   },
   "outputs": [
    {
     "data": {
      "text/html": [
       "<div>\n",
       "<table border=\"1\" class=\"dataframe\">\n",
       "  <thead>\n",
       "    <tr style=\"text-align: right;\">\n",
       "      <th></th>\n",
       "      <th>PassengerId</th>\n",
       "      <th>Survived</th>\n",
       "      <th>Pclass</th>\n",
       "      <th>Name</th>\n",
       "      <th>Sex</th>\n",
       "      <th>Age</th>\n",
       "      <th>SibSp</th>\n",
       "      <th>Parch</th>\n",
       "      <th>Ticket</th>\n",
       "      <th>Fare</th>\n",
       "      <th>Cabin</th>\n",
       "      <th>Embarked</th>\n",
       "    </tr>\n",
       "  </thead>\n",
       "  <tbody>\n",
       "  </tbody>\n",
       "</table>\n",
       "</div>"
      ],
      "text/plain": [
       "Empty DataFrame\n",
       "Columns: [PassengerId, Survived, Pclass, Name, Sex, Age, SibSp, Parch, Ticket, Fare, Cabin, Embarked]\n",
       "Index: []"
      ]
     },
     "execution_count": 10,
     "metadata": {},
     "output_type": "execute_result"
    }
   ],
   "source": [
    "# Getting the rows which have Embarked data value but share the same Ticket and Cabin number.\n",
    "titanic_df[(titanic_df['Embarked'].notnull()) & ((titanic_df['Ticket'] == '113572') | (titanic_df['Cabin'] == 'B28'))]"
   ]
  },
  {
   "cell_type": "markdown",
   "metadata": {},
   "source": [
    "Notice this is empty. That means we have to intuitively fill the two missing Embarked values. In this case replacing missing value with mode would be a good choice. Lets find out which port was most travelled by?"
   ]
  },
  {
   "cell_type": "code",
   "execution_count": 11,
   "metadata": {
    "collapsed": false
   },
   "outputs": [
    {
     "data": {
      "text/plain": [
       "S    644\n",
       "C    168\n",
       "Q     77\n",
       "Name: Embarked, dtype: int64"
      ]
     },
     "execution_count": 11,
     "metadata": {},
     "output_type": "execute_result"
    }
   ],
   "source": [
    "# Printing the count of each embarked values\n",
    "titanic_df['Embarked'].value_counts()"
   ]
  },
  {
   "cell_type": "markdown",
   "metadata": {},
   "source": [
    "Since most people travelled by 'S'(Southampton) port, it makes sense to replace missing Embarked value with its mode i.e. 'S'."
   ]
  },
  {
   "cell_type": "code",
   "execution_count": 12,
   "metadata": {
    "collapsed": true
   },
   "outputs": [],
   "source": [
    "# Replacing NaN Embarked with mode using pandas fillna() function\n",
    "titanic_df['Embarked'].fillna('S',inplace=True)"
   ]
  },
  {
   "cell_type": "markdown",
   "metadata": {},
   "source": [
    "### 2.4.2 Filling missing Cabin Values"
   ]
  },
  {
   "cell_type": "code",
   "execution_count": 13,
   "metadata": {
    "collapsed": false
   },
   "outputs": [
    {
     "name": "stdout",
     "output_type": "stream",
     "text": [
      "PassengerId      0\n",
      "Survived         0\n",
      "Pclass           0\n",
      "Name             0\n",
      "Sex              0\n",
      "Age              0\n",
      "SibSp            0\n",
      "Parch            0\n",
      "Ticket           0\n",
      "Fare             0\n",
      "Cabin          687\n",
      "Embarked         0\n",
      "dtype: int64\n"
     ]
    }
   ],
   "source": [
    "# Before moving ahead lets check the data frame null values status.\n",
    "print titanic_df.isnull().sum()"
   ]
  },
  {
   "cell_type": "markdown",
   "metadata": {},
   "source": [
    "- One may notice that there are no missing values in Age and Embarked columns now. Lets explore Cabin missing values.  \n",
    "- There are 687 NaN Cabin values, it seems we would need to manipulate a whole lot of information in order to replace this. Also, Cabin information does not seems to affect the survival rate. Hence, Dropping this column makes much more sense to retain the relationship between other variables rather than imputing so many values."
   ]
  },
  {
   "cell_type": "code",
   "execution_count": 14,
   "metadata": {
    "collapsed": false
   },
   "outputs": [],
   "source": [
    "# Dropping column Cabin\n",
    "titanic_df = titanic_df.drop(['Cabin'], axis=1)"
   ]
  },
  {
   "cell_type": "markdown",
   "metadata": {},
   "source": [
    "### 2.4.3 Removing other unnecessary columns"
   ]
  },
  {
   "cell_type": "markdown",
   "metadata": {},
   "source": [
    "Columns like Name, Ticket also do not have much relevance to survival, hence we choose to remove those columns as well."
   ]
  },
  {
   "cell_type": "code",
   "execution_count": 15,
   "metadata": {
    "collapsed": false
   },
   "outputs": [],
   "source": [
    "# Dropping columns Name, Ticket\n",
    "titanic_df = titanic_df.drop(['Name', 'Ticket'], axis=1)"
   ]
  },
  {
   "cell_type": "code",
   "execution_count": 16,
   "metadata": {
    "collapsed": false
   },
   "outputs": [
    {
     "name": "stdout",
     "output_type": "stream",
     "text": [
      "<class 'pandas.core.frame.DataFrame'>\n",
      "RangeIndex: 891 entries, 0 to 890\n",
      "Data columns (total 9 columns):\n",
      "PassengerId    891 non-null int64\n",
      "Survived       891 non-null int64\n",
      "Pclass         891 non-null int64\n",
      "Sex            891 non-null object\n",
      "Age            891 non-null float64\n",
      "SibSp          891 non-null int64\n",
      "Parch          891 non-null int64\n",
      "Fare           891 non-null float64\n",
      "Embarked       891 non-null object\n",
      "dtypes: float64(2), int64(5), object(2)\n",
      "memory usage: 62.7+ KB\n"
     ]
    }
   ],
   "source": [
    "# This is how the DataFrame looks like post cleaning\n",
    "titanic_df.info()"
   ]
  },
  {
   "cell_type": "markdown",
   "metadata": {},
   "source": [
    "We are now ready to investigate the Data and Analyze it."
   ]
  },
  {
   "cell_type": "markdown",
   "metadata": {},
   "source": [
    "# 3. Analysis of data"
   ]
  },
  {
   "cell_type": "markdown",
   "metadata": {},
   "source": [
    "## 3.1 Investigating survival based on passengers Gender"
   ]
  },
  {
   "cell_type": "code",
   "execution_count": 17,
   "metadata": {
    "collapsed": false
   },
   "outputs": [
    {
     "name": "stdout",
     "output_type": "stream",
     "text": [
      "    PassengerId  Survived  Pclass     Sex   Age  SibSp  Parch     Fare  \\\n",
      "0             1         0       3    male  22.0      1      0   7.2500   \n",
      "1             2         1       1  female  38.0      1      0  71.2833   \n",
      "14           15         0       3  female  14.0      0      0   7.8542   \n",
      "17           18         1       2    male  28.0      0      0  13.0000   \n",
      "\n",
      "   Embarked  \n",
      "0         S  \n",
      "1         C  \n",
      "14        S  \n",
      "17        S  \n"
     ]
    }
   ],
   "source": [
    "# Building a new gender dataframe which has Columns grouped by Gender and Survival of each gender.\n",
    "titanic_gender_df = titanic_df.groupby(['Sex', 'Survived'])\n",
    "# Printing the first row of each type of data\n",
    "print titanic_gender_df.head([1]) #Survived: 0,1; Sex: male,Female;"
   ]
  },
  {
   "cell_type": "code",
   "execution_count": 18,
   "metadata": {
    "collapsed": false
   },
   "outputs": [
    {
     "name": "stdout",
     "output_type": "stream",
     "text": [
      "                 PassengerId\n",
      "Sex    Survived             \n",
      "female 0                  81\n",
      "       1                 233\n",
      "male   0                 468\n",
      "       1                 109\n"
     ]
    }
   ],
   "source": [
    "#Lets get a count of Each group by combination (Survived: 0,1; Sex: male,Female;)\n",
    "titanic_gender_passenger_count_df = titanic_gender_df.count()[['PassengerId']]\n",
    "print titanic_gender_passenger_count_df"
   ]
  },
  {
   "cell_type": "code",
   "execution_count": 19,
   "metadata": {
    "collapsed": true
   },
   "outputs": [],
   "source": [
    "# A function to get the data frame values from key values of groupby columns\n",
    "def converts_dataframe_to_values(df, selector1, selector2):\n",
    "    return df.loc[selector1, selector2]"
   ]
  },
  {
   "cell_type": "code",
   "execution_count": 20,
   "metadata": {
    "collapsed": false
   },
   "outputs": [
    {
     "name": "stdout",
     "output_type": "stream",
     "text": [
      "Female survived: 233\n",
      "Male survived: 109\n"
     ]
    }
   ],
   "source": [
    "#rate of survival of female and male passengers\n",
    "female_survived = converts_dataframe_to_values(titanic_gender_passenger_count_df,'female', 1 )\n",
    "male_survived = converts_dataframe_to_values(titanic_gender_passenger_count_df, 'male', 1)\n",
    "print \"Female survived:\",female_survived[0]\n",
    "print \"Male survived:\", male_survived[0]"
   ]
  },
  {
   "cell_type": "code",
   "execution_count": 21,
   "metadata": {
    "collapsed": false
   },
   "outputs": [
    {
     "name": "stdout",
     "output_type": "stream",
     "text": [
      "Female survival percent: 74.2038216561\n",
      "Male survival percent: 18.8908145581\n"
     ]
    }
   ],
   "source": [
    "# Getting the percentage of female and male survival\n",
    "female_survival_rate = (female_survived / titanic_df[titanic_df['Sex'] == 'female'].count()[['PassengerId']]) \\\n",
    "* 100\n",
    "male_survival_rate = (male_survived / titanic_df[titanic_df['Sex'] == 'male'].count()[['PassengerId']]) * 100\n",
    "print \"Female survival percent:\",female_survival_rate[0]\n",
    "print \"Male survival percent:\", male_survival_rate[0]"
   ]
  },
  {
   "cell_type": "markdown",
   "metadata": {},
   "source": [
    "We notice that female have clearly much more survival percentage than male. Hence its easy to say that from this dataset Female passengers had more survival proportion on Titanic than Male passengers. "
   ]
  },
  {
   "cell_type": "markdown",
   "metadata": {},
   "source": [
    "## 3.2 Investigating survival based on passengers Age"
   ]
  },
  {
   "cell_type": "code",
   "execution_count": 25,
   "metadata": {
    "collapsed": false
   },
   "outputs": [
    {
     "data": {
      "text/plain": [
       "<matplotlib.text.Text at 0x11a051e90>"
      ]
     },
     "execution_count": 25,
     "metadata": {},
     "output_type": "execute_result"
    },
    {
     "data": {
      "image/png": "[encoded data removed]",
      "text/plain": [
       "<matplotlib.figure.Figure at 0x11a4dbf50>"
      ]
     },
     "metadata": {},
     "output_type": "display_data"
    }
   ],
   "source": [
    "# Lets visualize the age data\n",
    "#titanic_df['Age'].hist(bins=28)\n",
    "\n",
    "fig = plt.figure()\n",
    "ax = fig.add_subplot(1,1,1,)\n",
    "n, bins, patches = ax.hist(titanic_df['Age'], bins=28, histtype='bar')\n",
    "\n",
    "#ax.set_xticklabels([n], rotation='vertical')\n",
    "\n",
    "for patch in patches:\n",
    "    patch.set_facecolor('b')\n",
    "\n",
    "plt.title('Distribution of Age data')\n",
    "plt.xlabel('Age')\n",
    "plt.ylabel('No of Passengers')"
   ]
  },
  {
   "cell_type": "markdown",
   "metadata": {},
   "source": [
    "We notice from the histogram that age data falls a maximum of 80 and most of the passengers lies in the range 20-30 age. Lets check."
   ]
  },
  {
   "cell_type": "code",
   "execution_count": 26,
   "metadata": {
    "collapsed": false
   },
   "outputs": [
    {
     "name": "stdout",
     "output_type": "stream",
     "text": [
      "Youngest 0.42\n",
      "Oldest 80.0\n",
      "Average Age 29.3615824916\n"
     ]
    }
   ],
   "source": [
    "youngestPassenger = titanic_df['Age'].min()\n",
    "oldestPassenger = titanic_df['Age'].max()\n",
    "avgPassenger = titanic_df['Age'].mean()\n",
    "print \"Youngest\",youngestPassenger\n",
    "print \"Oldest\",oldestPassenger\n",
    "print \"Average Age\",avgPassenger"
   ]
  },
  {
   "cell_type": "markdown",
   "metadata": {},
   "source": [
    "The values are as expected. Age must be grouped/binned in order to better analyze the data. We covert age of float value in the DataSet to integer as we are not analyzing infants right now."
   ]
  },
  {
   "cell_type": "code",
   "execution_count": 27,
   "metadata": {
    "collapsed": true
   },
   "outputs": [],
   "source": [
    "titanic_df['Age'] = titanic_df['Age'].astype(int)"
   ]
  },
  {
   "cell_type": "markdown",
   "metadata": {},
   "source": [
    "### Grouping / Binning Ages"
   ]
  },
  {
   "cell_type": "markdown",
   "metadata": {},
   "source": [
    "We chose to divide the age groups in sets of size 10. i.e. 0-9, 10-19, ... , 70-79. We Stop here as the oldest person is of age 80. This is an outlier as well. For simplicity we consider this person to be in AgeGroup 70-79."
   ]
  },
  {
   "cell_type": "code",
   "execution_count": 28,
   "metadata": {
    "collapsed": false
   },
   "outputs": [
    {
     "name": "stdout",
     "output_type": "stream",
     "text": [
      "     PassengerId  Survived  Pclass     Sex  Age  SibSp  Parch   Fare Embarked  \\\n",
      "886          887         0       2    male   27      0      0  13.00        S   \n",
      "887          888         1       1  female   19      0      0  30.00        S   \n",
      "888          889         0       3  female   28      1      2  23.45        S   \n",
      "889          890         1       1    male   26      0      0  30.00        C   \n",
      "890          891         0       3    male   32      0      0   7.75        Q   \n",
      "\n",
      "    AgeGroup  \n",
      "886    20-29  \n",
      "887    10-19  \n",
      "888    20-29  \n",
      "889    20-29  \n",
      "890    30-39  \n"
     ]
    }
   ],
   "source": [
    "# We divide the age groups in set of 10 as follows\n",
    "age_labels = ['0-9', '10-19', '20-29', '30-39', '40-49', '50-59', '60-69', '70-79']\n",
    "\n",
    "# We add a new column for age group\n",
    "titanic_df['AgeGroup'] = pd.cut(titanic_df.Age, range(0, 81, 10), right=False, labels=age_labels)\n",
    "print titanic_df.tail()"
   ]
  },
  {
   "cell_type": "markdown",
   "metadata": {},
   "source": [
    "Notice the new colum AgeGroup and its values, for e.g. age 20-29 labelled for passenger whose age is 27. "
   ]
  },
  {
   "cell_type": "code",
   "execution_count": 29,
   "metadata": {
    "collapsed": false
   },
   "outputs": [
    {
     "name": "stdout",
     "output_type": "stream",
     "text": [
      "     PassengerId  Survived  Pclass     Sex  Age  SibSp  Parch     Fare  \\\n",
      "0              1         0       3    male   22      1      0   7.2500   \n",
      "1              2         1       1  female   38      1      0  71.2833   \n",
      "2              3         1       3  female   26      0      0   7.9250   \n",
      "4              5         0       3    male   35      0      0   8.0500   \n",
      "6              7         0       1    male   54      0      0  51.8625   \n",
      "7              8         0       3    male    2      3      1  21.0750   \n",
      "9             10         1       2  female   14      1      0  30.0708   \n",
      "10            11         1       3  female    4      1      1  16.7000   \n",
      "11            12         1       1  female   58      0      0  26.5500   \n",
      "14            15         0       3  female   14      0      0   7.8542   \n",
      "30            31         0       1    male   40      0      0  27.7208   \n",
      "33            34         0       2    male   66      0      0  10.5000   \n",
      "52            53         1       1  female   49      1      0  76.7292   \n",
      "96            97         0       1    male   71      0      0  34.6542   \n",
      "275          276         1       1  female   63      1      0  77.9583   \n",
      "630          631         1       1    male   80      0      0  30.0000   \n",
      "\n",
      "    Embarked AgeGroup  \n",
      "0          S    20-29  \n",
      "1          C    30-39  \n",
      "2          S    20-29  \n",
      "4          S    30-39  \n",
      "6          S    50-59  \n",
      "7          S      0-9  \n",
      "9          C    10-19  \n",
      "10         S      0-9  \n",
      "11         S    50-59  \n",
      "14         S    10-19  \n",
      "30         C    40-49  \n",
      "33         S    60-69  \n",
      "52         C    40-49  \n",
      "96         C    70-79  \n",
      "275        S    60-69  \n",
      "630        S      NaN  \n"
     ]
    }
   ],
   "source": [
    "# Building a new age dataframe which has Columns grouped by AgeGroup and Survival of each gender.\n",
    "titanic_age_df = titanic_df.groupby(['AgeGroup', 'Survived'])\n",
    "# Printing the first row of each type of data\n",
    "print titanic_age_df.head([1])"
   ]
  },
  {
   "cell_type": "markdown",
   "metadata": {},
   "source": [
    "Notice we got some missing values in the range 70-80 For simplicity sake we would like to drop those rows as they anyhow seem outliers."
   ]
  },
  {
   "cell_type": "code",
   "execution_count": 30,
   "metadata": {
    "collapsed": false
   },
   "outputs": [],
   "source": [
    "titanic_df = titanic_df[pd.notnull(titanic_df[\"AgeGroup\"])]"
   ]
  },
  {
   "cell_type": "code",
   "execution_count": 31,
   "metadata": {
    "collapsed": false
   },
   "outputs": [
    {
     "name": "stdout",
     "output_type": "stream",
     "text": [
      "     PassengerId  Survived  Pclass     Sex  Age  SibSp  Parch     Fare  \\\n",
      "0              1         0       3    male   22      1      0   7.2500   \n",
      "1              2         1       1  female   38      1      0  71.2833   \n",
      "2              3         1       3  female   26      0      0   7.9250   \n",
      "4              5         0       3    male   35      0      0   8.0500   \n",
      "6              7         0       1    male   54      0      0  51.8625   \n",
      "7              8         0       3    male    2      3      1  21.0750   \n",
      "9             10         1       2  female   14      1      0  30.0708   \n",
      "10            11         1       3  female    4      1      1  16.7000   \n",
      "11            12         1       1  female   58      0      0  26.5500   \n",
      "14            15         0       3  female   14      0      0   7.8542   \n",
      "30            31         0       1    male   40      0      0  27.7208   \n",
      "33            34         0       2    male   66      0      0  10.5000   \n",
      "52            53         1       1  female   49      1      0  76.7292   \n",
      "96            97         0       1    male   71      0      0  34.6542   \n",
      "275          276         1       1  female   63      1      0  77.9583   \n",
      "\n",
      "    Embarked AgeGroup  \n",
      "0          S    20-29  \n",
      "1          C    30-39  \n",
      "2          S    20-29  \n",
      "4          S    30-39  \n",
      "6          S    50-59  \n",
      "7          S      0-9  \n",
      "9          C    10-19  \n",
      "10         S      0-9  \n",
      "11         S    50-59  \n",
      "14         S    10-19  \n",
      "30         C    40-49  \n",
      "33         S    60-69  \n",
      "52         C    40-49  \n",
      "96         C    70-79  \n",
      "275        S    60-69  \n"
     ]
    }
   ],
   "source": [
    "# Lets Re-Group\n",
    "titanic_age_df = titanic_df.groupby(['AgeGroup', 'Survived'])\n",
    "# Printing the first row of each type of data\n",
    "print titanic_age_df.head([1])"
   ]
  },
  {
   "cell_type": "code",
   "execution_count": 32,
   "metadata": {
    "collapsed": false
   },
   "outputs": [
    {
     "name": "stdout",
     "output_type": "stream",
     "text": [
      "                   PassengerId\n",
      "AgeGroup Survived             \n",
      "0-9      0                24.0\n",
      "         1                38.0\n",
      "10-19    0                61.0\n",
      "         1                41.0\n",
      "20-29    0               268.0\n",
      "         1               129.0\n",
      "30-39    0                94.0\n",
      "         1                73.0\n",
      "40-49    0                55.0\n",
      "         1                34.0\n",
      "50-59    0                28.0\n",
      "         1                20.0\n",
      "60-69    0                13.0\n",
      "         1                 6.0\n",
      "70-79    0                 6.0\n",
      "         1                 NaN\n"
     ]
    }
   ],
   "source": [
    "#Let us count each survival value from grouby data \n",
    "titanic_age_passenger_count_df = titanic_age_df.count()[['PassengerId']]\n",
    "print titanic_age_passenger_count_df"
   ]
  },
  {
   "cell_type": "markdown",
   "metadata": {},
   "source": [
    "The value for AgeGroup: 70-79 and survived: 1 is NaN. Lets see why..."
   ]
  },
  {
   "cell_type": "code",
   "execution_count": 33,
   "metadata": {
    "collapsed": false
   },
   "outputs": [
    {
     "data": {
      "text/html": [
       "<div>\n",
       "<table border=\"1\" class=\"dataframe\">\n",
       "  <thead>\n",
       "    <tr style=\"text-align: right;\">\n",
       "      <th></th>\n",
       "      <th>PassengerId</th>\n",
       "      <th>Survived</th>\n",
       "      <th>Pclass</th>\n",
       "      <th>Sex</th>\n",
       "      <th>Age</th>\n",
       "      <th>SibSp</th>\n",
       "      <th>Parch</th>\n",
       "      <th>Fare</th>\n",
       "      <th>Embarked</th>\n",
       "      <th>AgeGroup</th>\n",
       "    </tr>\n",
       "  </thead>\n",
       "  <tbody>\n",
       "    <tr>\n",
       "      <th>96</th>\n",
       "      <td>97</td>\n",
       "      <td>0</td>\n",
       "      <td>1</td>\n",
       "      <td>male</td>\n",
       "      <td>71</td>\n",
       "      <td>0</td>\n",
       "      <td>0</td>\n",
       "      <td>34.6542</td>\n",
       "      <td>C</td>\n",
       "      <td>70-79</td>\n",
       "    </tr>\n",
       "    <tr>\n",
       "      <th>116</th>\n",
       "      <td>117</td>\n",
       "      <td>0</td>\n",
       "      <td>3</td>\n",
       "      <td>male</td>\n",
       "      <td>70</td>\n",
       "      <td>0</td>\n",
       "      <td>0</td>\n",
       "      <td>7.7500</td>\n",
       "      <td>Q</td>\n",
       "      <td>70-79</td>\n",
       "    </tr>\n",
       "    <tr>\n",
       "      <th>493</th>\n",
       "      <td>494</td>\n",
       "      <td>0</td>\n",
       "      <td>1</td>\n",
       "      <td>male</td>\n",
       "      <td>71</td>\n",
       "      <td>0</td>\n",
       "      <td>0</td>\n",
       "      <td>49.5042</td>\n",
       "      <td>C</td>\n",
       "      <td>70-79</td>\n",
       "    </tr>\n",
       "    <tr>\n",
       "      <th>672</th>\n",
       "      <td>673</td>\n",
       "      <td>0</td>\n",
       "      <td>2</td>\n",
       "      <td>male</td>\n",
       "      <td>70</td>\n",
       "      <td>0</td>\n",
       "      <td>0</td>\n",
       "      <td>10.5000</td>\n",
       "      <td>S</td>\n",
       "      <td>70-79</td>\n",
       "    </tr>\n",
       "    <tr>\n",
       "      <th>745</th>\n",
       "      <td>746</td>\n",
       "      <td>0</td>\n",
       "      <td>1</td>\n",
       "      <td>male</td>\n",
       "      <td>70</td>\n",
       "      <td>1</td>\n",
       "      <td>1</td>\n",
       "      <td>71.0000</td>\n",
       "      <td>S</td>\n",
       "      <td>70-79</td>\n",
       "    </tr>\n",
       "    <tr>\n",
       "      <th>851</th>\n",
       "      <td>852</td>\n",
       "      <td>0</td>\n",
       "      <td>3</td>\n",
       "      <td>male</td>\n",
       "      <td>74</td>\n",
       "      <td>0</td>\n",
       "      <td>0</td>\n",
       "      <td>7.7750</td>\n",
       "      <td>S</td>\n",
       "      <td>70-79</td>\n",
       "    </tr>\n",
       "  </tbody>\n",
       "</table>\n",
       "</div>"
      ],
      "text/plain": [
       "     PassengerId  Survived  Pclass   Sex  Age  SibSp  Parch     Fare Embarked  \\\n",
       "96            97         0       1  male   71      0      0  34.6542        C   \n",
       "116          117         0       3  male   70      0      0   7.7500        Q   \n",
       "493          494         0       1  male   71      0      0  49.5042        C   \n",
       "672          673         0       2  male   70      0      0  10.5000        S   \n",
       "745          746         0       1  male   70      1      1  71.0000        S   \n",
       "851          852         0       3  male   74      0      0   7.7750        S   \n",
       "\n",
       "    AgeGroup  \n",
       "96     70-79  \n",
       "116    70-79  \n",
       "493    70-79  \n",
       "672    70-79  \n",
       "745    70-79  \n",
       "851    70-79  "
      ]
     },
     "execution_count": 33,
     "metadata": {},
     "output_type": "execute_result"
    }
   ],
   "source": [
    "titanic_df[titanic_df['AgeGroup'] == '70-79']"
   ]
  },
  {
   "cell_type": "markdown",
   "metadata": {},
   "source": [
    "There are 6 rows fetched. We notice that none of the 6 passengers from agegroup 70-79 were able to survive. This tells us the reason for NaN in the count value."
   ]
  },
  {
   "cell_type": "code",
   "execution_count": 34,
   "metadata": {
    "collapsed": false
   },
   "outputs": [
    {
     "name": "stdout",
     "output_type": "stream",
     "text": [
      "Group 0-9 survival percent: 61.2903225806\n",
      "Group 10-19 survival percent: 40.1960784314\n",
      "Group 20-29 survival percent: 32.4937027708\n",
      "Group 30-39 survival percent: 43.7125748503\n",
      "Group 40-49 survival percent: 38.202247191\n",
      "Group 50-59 survival percent: 41.6666666667\n",
      "Group 60-69 survival percent: 31.5789473684\n",
      "Group 70-79 survival percent: 0.0\n"
     ]
    }
   ],
   "source": [
    "# We get follow the same method as we did for analyzing based on gender.\n",
    "G0_survived = converts_dataframe_to_values(titanic_age_passenger_count_df,'0-9', 1)\n",
    "G1_survived = converts_dataframe_to_values(titanic_age_passenger_count_df, '10-19', 1)\n",
    "G2_survived = converts_dataframe_to_values(titanic_age_passenger_count_df, '20-29', 1)\n",
    "G3_survived = converts_dataframe_to_values(titanic_age_passenger_count_df, '30-39', 1)\n",
    "G4_survived = converts_dataframe_to_values(titanic_age_passenger_count_df, '40-49', 1)\n",
    "G5_survived = converts_dataframe_to_values(titanic_age_passenger_count_df, '50-59', 1)\n",
    "G6_survived = converts_dataframe_to_values(titanic_age_passenger_count_df, '60-69', 1)\n",
    "G7_survived = converts_dataframe_to_values(titanic_age_passenger_count_df, '70-79', 1)\n",
    "\n",
    "\n",
    "G0_survival_rate = (G0_survived / titanic_df[titanic_df['AgeGroup'] == '0-9'].count()[['PassengerId']]) * 100\n",
    "G1_survival_rate = (G1_survived / titanic_df[titanic_df['AgeGroup'] == '10-19'].count()[['PassengerId']]) * 100\n",
    "G2_survival_rate = (G2_survived / titanic_df[titanic_df['AgeGroup'] == '20-29'].count()[['PassengerId']]) * 100\n",
    "G3_survival_rate = (G3_survived / titanic_df[titanic_df['AgeGroup'] == '30-39'].count()[['PassengerId']]) * 100\n",
    "G4_survival_rate = (G4_survived / titanic_df[titanic_df['AgeGroup'] == '40-49'].count()[['PassengerId']]) * 100\n",
    "G5_survival_rate = (G5_survived / titanic_df[titanic_df['AgeGroup'] == '50-59'].count()[['PassengerId']]) * 100\n",
    "G6_survival_rate = (G6_survived / titanic_df[titanic_df['AgeGroup'] == '60-69'].count()[['PassengerId']]) * 100\n",
    "G7_survival_rate = 0.00 #As we found out earlier\n",
    "\n",
    "print \"Group 0-9 survival percent:\",G0_survival_rate[0]\n",
    "print \"Group 10-19 survival percent:\", G1_survival_rate[0]\n",
    "print \"Group 20-29 survival percent:\",G2_survival_rate[0]\n",
    "print \"Group 30-39 survival percent:\",G3_survival_rate[0]\n",
    "print \"Group 40-49 survival percent:\",G4_survival_rate[0]\n",
    "print \"Group 50-59 survival percent:\",G5_survival_rate[0]\n",
    "print \"Group 60-69 survival percent:\",G6_survival_rate[0]\n",
    "print \"Group 70-79 survival percent:\",G7_survival_rate"
   ]
  },
  {
   "cell_type": "markdown",
   "metadata": {},
   "source": [
    "Clearly most chlidren survived. This may be a clear indication that at the time of evacuation, children and females were the first ones to be sent on boats. And hence they were the most survived ones."
   ]
  },
  {
   "cell_type": "markdown",
   "metadata": {},
   "source": [
    "## 3.3 Investigating survival based on passengers Class"
   ]
  },
  {
   "cell_type": "markdown",
   "metadata": {},
   "source": [
    "As per the description of titanic data, Pclass is a proxy for socio-economic status (SES)\n",
    " 1st ~ Upper; 2nd ~ Middle; 3rd ~ Lower"
   ]
  },
  {
   "cell_type": "code",
   "execution_count": 35,
   "metadata": {
    "collapsed": true
   },
   "outputs": [],
   "source": [
    "# We would also like to explore based on Passenger class.\n",
    "titanic_Pclass_df = titanic_df.groupby(['Pclass', 'Survived'])"
   ]
  },
  {
   "cell_type": "code",
   "execution_count": 36,
   "metadata": {
    "collapsed": false
   },
   "outputs": [
    {
     "name": "stdout",
     "output_type": "stream",
     "text": [
      "                 PassengerId\n",
      "Pclass Survived             \n",
      "1      0                  80\n",
      "       1                 135\n",
      "2      0                  97\n",
      "       1                  87\n",
      "3      0                 372\n",
      "       1                 119\n"
     ]
    }
   ],
   "source": [
    "# We take a count of each groupby type\n",
    "titanic_Pclass_passenger_count_df = titanic_Pclass_df.count()[['PassengerId']]\n",
    "print titanic_Pclass_passenger_count_df"
   ]
  },
  {
   "cell_type": "code",
   "execution_count": 37,
   "metadata": {
    "collapsed": false
   },
   "outputs": [
    {
     "name": "stdout",
     "output_type": "stream",
     "text": [
      "Pclass 1 survival percent: 62.7906976744\n",
      "Pclass 2 survival percent: 47.2826086957\n",
      "Pclass 3 survival percent: 24.2362525458\n"
     ]
    }
   ],
   "source": [
    "C1_survived = converts_dataframe_to_values(titanic_Pclass_passenger_count_df, 1, 1)\n",
    "C2_survived = converts_dataframe_to_values(titanic_Pclass_passenger_count_df, 2, 1)\n",
    "C3_survived = converts_dataframe_to_values(titanic_Pclass_passenger_count_df, 3, 1)\n",
    "\n",
    "C1_survival_rate = (C1_survived / titanic_df[titanic_df['Pclass'] == 1].count()[['PassengerId']]) * 100\n",
    "C2_survival_rate = (C2_survived / titanic_df[titanic_df['Pclass'] == 2].count()[['PassengerId']]) * 100\n",
    "C3_survival_rate = (C3_survived / titanic_df[titanic_df['Pclass'] == 3].count()[['PassengerId']]) * 100\n",
    "\n",
    "print \"Pclass 1 survival percent:\",C1_survival_rate[0]\n",
    "print \"Pclass 2 survival percent:\",C2_survival_rate[0]\n",
    "print \"Pclass 3 survival percent:\",C3_survival_rate[0]"
   ]
  },
  {
   "cell_type": "markdown",
   "metadata": {},
   "source": [
    "Clearly Upper class passengers survied the most. My guess is rich people found out ways to sit on boat first ones by paying than lower class people who could not have afford it."
   ]
  },
  {
   "cell_type": "markdown",
   "metadata": {},
   "source": [
    "## 3.3 Investigating survival based on Family Relations"
   ]
  },
  {
   "cell_type": "markdown",
   "metadata": {},
   "source": [
    "I would like to find the family size  based on the Parent&Children plus sibling&spouses.  \n",
    "FamilySize = self + number of parents/children + number of siblings/spouses"
   ]
  },
  {
   "cell_type": "code",
   "execution_count": 38,
   "metadata": {
    "collapsed": false
   },
   "outputs": [
    {
     "name": "stderr",
     "output_type": "stream",
     "text": [
      "/Users/ankita_mehta/anaconda/lib/python2.7/site-packages/ipykernel/__main__.py:2: SettingWithCopyWarning:\n",
      "\n",
      "\n",
      "A value is trying to be set on a copy of a slice from a DataFrame.\n",
      "Try using .loc[row_indexer,col_indexer] = value instead\n",
      "\n",
      "See the caveats in the documentation: http://pandas.pydata.org/pandas-docs/stable/indexing.html#indexing-view-versus-copy\n",
      "\n"
     ]
    }
   ],
   "source": [
    "## adding a new column family size, contains total family size\n",
    "titanic_df['Familysize'] = titanic_df['SibSp'] + titanic_df['Parch'] + 1"
   ]
  },
  {
   "cell_type": "code",
   "execution_count": 39,
   "metadata": {
    "collapsed": false
   },
   "outputs": [
    {
     "name": "stdout",
     "output_type": "stream",
     "text": [
      "             Survived\n",
      "Familysize           \n",
      "1           30.223881\n",
      "2           55.279503\n",
      "3           57.843137\n",
      "4           72.413793\n",
      "5           20.000000\n",
      "6           13.636364\n",
      "7           33.333333\n",
      "8            0.000000\n",
      "11           0.000000\n"
     ]
    }
   ],
   "source": [
    "# dividing data on basis of familysize and then taking mean of survival rate\n",
    "print titanic_df.groupby(['Familysize']).mean()[['Survived']] * 100"
   ]
  },
  {
   "cell_type": "code",
   "execution_count": 44,
   "metadata": {
    "collapsed": false
   },
   "outputs": [
    {
     "data": {
      "image/png": "[encoded data removed]",
      "text/plain": [
       "<matplotlib.figure.Figure at 0x11a828990>"
      ]
     },
     "metadata": {},
     "output_type": "display_data"
    }
   ],
   "source": [
    "plot = titanic_df.groupby(['Familysize']).mean()[['Survived']].plot(kind=\"bar\", title=\"Survival rate vs Family Size\")\n",
    "plot.set_xlabel(\"family size\");\n",
    "plot.set_ylabel(\"survival rate\");"
   ]
  },
  {
   "cell_type": "code",
   "execution_count": 100,
   "metadata": {
    "collapsed": false
   },
   "outputs": [
    {
     "name": "stdout",
     "output_type": "stream",
     "text": [
      "[ 1  2  3  4  5  6  7  8 11]\n",
      "[ 0.30223881  0.55279503  0.57843137  0.72413793  0.2         0.13636364\n",
      "  0.33333333  0.          0.        ]\n"
     ]
    },
    {
     "data": {
      "image/png": "[encoded data removed]",
      "text/plain": [
       "<matplotlib.figure.Figure at 0x11c786e50>"
      ]
     },
     "metadata": {},
     "output_type": "display_data"
    }
   ],
   "source": [
    "series = titanic_df.groupby(['Familysize']).mean()[['Survived']]\n",
    "\n",
    "print series['Survived'].index.values\n",
    "print series['Survived'].values\n",
    "\n",
    "N = 50\n",
    "x = series['Survived'].index.values\n",
    "y = series['Survived'].values\n",
    "\n",
    "#colors = np.random.rand(N)\n",
    "\n",
    "plt.scatter(x, y, s=y*1200, alpha=0.5)\n",
    "plt.show()"
   ]
  },
  {
   "cell_type": "markdown",
   "metadata": {},
   "source": [
    "Notice the scatter plot with bigger circle in mostly middle sized families and it goes smaller as family size increases. One may notice that there is no circle for family size 11, i.e. its survival percent is 0."
   ]
  },
  {
   "cell_type": "markdown",
   "metadata": {},
   "source": [
    "The relation for the survival based on family size seems a bit wierd. According to me people who were single should have survived more as they had no liabilities and should have reached a safe place first. But the data tells only ~30% of those could survive. A middle size family had better survival(2,3,4) as there might be children and females along which got chance to sit in boats first. People with larger family size could not survive much as they could not have been accomodated together or they could be at same place at the time of diaster and were looking for each other."
   ]
  },
  {
   "cell_type": "markdown",
   "metadata": {},
   "source": [
    "## 3.4 Investigating survival based on Port of Embarkation"
   ]
  },
  {
   "cell_type": "code",
   "execution_count": 101,
   "metadata": {
    "collapsed": false
   },
   "outputs": [
    {
     "name": "stdout",
     "output_type": "stream",
     "text": [
      "          PassengerId\n",
      "Embarked             \n",
      "C                 168\n",
      "Q                  77\n",
      "S                 645\n"
     ]
    }
   ],
   "source": [
    "# Count of passengers boarding from different embarked ports\n",
    "print titanic_df.groupby('Embarked').count()[['PassengerId']]\n",
    "\n",
    "passenger_count_c = titanic_df.groupby('Embarked').count()[['PassengerId']].loc[['C']]\n",
    "passenger_count_q = titanic_df.groupby('Embarked').count()[['PassengerId']].loc[['Q']]\n",
    "passenger_count_s = titanic_df.groupby('Embarked').count()[['PassengerId']].loc[['S']]"
   ]
  },
  {
   "cell_type": "code",
   "execution_count": 102,
   "metadata": {
    "collapsed": false
   },
   "outputs": [
    {
     "name": "stdout",
     "output_type": "stream",
     "text": [
      "Overall passenger survival percentage 38.3146067416\n"
     ]
    }
   ],
   "source": [
    "#overall passenger survival average\n",
    "print \"Overall passenger survival percentage\",titanic_df[['Survived']].mean()[0] * 100"
   ]
  },
  {
   "cell_type": "code",
   "execution_count": 103,
   "metadata": {
    "collapsed": false
   },
   "outputs": [
    {
     "name": "stdout",
     "output_type": "stream",
     "text": [
      "           Survived\n",
      "Embarked           \n",
      "C         55.357143\n",
      "Q         38.961039\n",
      "S         33.798450\n"
     ]
    }
   ],
   "source": [
    "#average survival rate of all 3 embarked ports\n",
    "print titanic_df.groupby('Embarked').mean()[['Survived']] * 100"
   ]
  },
  {
   "cell_type": "markdown",
   "metadata": {},
   "source": [
    "Notice there are very few people from southamptom who could survive. But most of the people embarked at Southampton. Then why did they survived the least. Let us to know what could have been the reason by exploring further based on gender first."
   ]
  },
  {
   "cell_type": "code",
   "execution_count": 104,
   "metadata": {
    "collapsed": false,
    "scrolled": true
   },
   "outputs": [
    {
     "name": "stdout",
     "output_type": "stream",
     "text": [
      "                 PassengerId\n",
      "Embarked Sex                \n",
      "C        female           73\n",
      "         male             95\n",
      "Q        female           36\n",
      "         male             41\n",
      "S        female          205\n",
      "         male            440\n"
     ]
    }
   ],
   "source": [
    "titanic_embarked_gender = titanic_df.groupby(['Embarked', 'Sex']).count()[['PassengerId']]\n",
    "print titanic_embarked_gender"
   ]
  },
  {
   "cell_type": "code",
   "execution_count": 105,
   "metadata": {
    "collapsed": false
   },
   "outputs": [
    {
     "name": "stderr",
     "output_type": "stream",
     "text": [
      "/Users/ankita_mehta/anaconda/lib/python2.7/site-packages/matplotlib/figure.py:397: UserWarning:\n",
      "\n",
      "matplotlib is currently using a non-GUI backend, so cannot show the figure\n",
      "\n"
     ]
    },
    {
     "data": {
      "image/png": "[encoded data removed]",
      "text/plain": [
       "<matplotlib.figure.Figure at 0x11af1b6d0>"
      ]
     },
     "metadata": {},
     "output_type": "display_data"
    }
   ],
   "source": [
    "fig = plt.figure()\n",
    "ax = fig.add_subplot(111) \n",
    "ax2 = ax.twinx()\n",
    "\n",
    "width = 0.1\n",
    "\n",
    "list_ti = titanic_embarked_gender['PassengerId']\n",
    "list_f = []\n",
    "list_m = []\n",
    "\n",
    "list_f.append(list_ti[0])\n",
    "list_m.append(list_ti[1])\n",
    "list_f.append(list_ti[2])\n",
    "list_m.append(list_ti[3])\n",
    "list_f.append(list_ti[4])\n",
    "list_m.append(list_ti[5])\n",
    "\n",
    "list_f = pd.DataFrame(list_f)\n",
    "list_m = pd.DataFrame(list_m)\n",
    "\n",
    "\n",
    "list_f.plot(kind='bar',color='blue',grid=True,ax=ax,width=width,position=1,figsize=(10, 7))\n",
    "list_m.plot(kind='bar',color='red',ax=ax2,grid=False,width=width, position=0,figsize=(10, 7))\n",
    "\n",
    "ax.set_ylabel('Female Passenger Count')\n",
    "ax2.set_ylabel('Male Passenger Count')\n",
    "ax.set_xlabel('Port of Embarkation')\n",
    "ax.set_xticklabels( ('Cherbourg', 'Queenstown', 'Southampton'), rotation=0 )\n",
    "\n",
    "ax.legend([\"Female\"], loc=\"center\", bbox_to_anchor=(0.1, 0.9))\n",
    "ax2.legend([\"Male\"],loc=\"center\", bbox_to_anchor=(0.09, 0.86))\n",
    "\n",
    "plt.title(\"Investigation based on Port of Embarkation and Gender\")\n",
    "\n",
    "fig.show()"
   ]
  },
  {
   "cell_type": "markdown",
   "metadata": {},
   "source": [
    "Notice that most of the people got in ship through Southampton. And Among those most were males. Where as in Cherbourg and Queenstown most of the females survived. Well the intuition that Southampton might have less no of females and children, and so its survival rate was low proved to be wrong.  \n",
    "\n",
    "\n",
    "We next explore on the basis of Pclass."
   ]
  },
  {
   "cell_type": "markdown",
   "metadata": {},
   "source": [
    "We earlier found out that upper class people survived the most. Is there a relation between Pclass and thier Port of Embarkation?"
   ]
  },
  {
   "cell_type": "code",
   "execution_count": 121,
   "metadata": {
    "collapsed": false
   },
   "outputs": [
    {
     "data": {
      "text/plain": [
       "<matplotlib.figure.Figure at 0x11ad5f650>"
      ]
     },
     "metadata": {},
     "output_type": "display_data"
    },
    {
     "data": {
      "image/png": "[encoded data removed]",
      "text/plain": [
       "<matplotlib.figure.Figure at 0x11c2612d0>"
      ]
     },
     "metadata": {},
     "output_type": "display_data"
    }
   ],
   "source": [
    "#Investigating based on Embarkation and PClass\n",
    "pp = plt.figure();\n",
    "data_plot = pd.DataFrame(titanic_df[[\"Fare\", \"Embarked\"]]);\n",
    "bp = data_plot.boxplot(by='Embarked', figsize=(12,8),return_type='axes');\n",
    "for ax in bp.values():\n",
    "    ax.set_ylim(-10, 200)\n",
    "    ax.set_xticklabels(('Cherbourg', 'Queenstown', 'Southampton'), rotation=0)\n",
    "\n",
    "plt.title(\"Boxplot of Fare data according to Embarked port\");\n",
    "plt.ylabel(\"Fare amount\");\n",
    "plt.xlabel(\"Embarked ports\");\n",
    "\n",
    "plt.show()"
   ]
  },
  {
   "cell_type": "markdown",
   "metadata": {},
   "source": [
    "The above box plot shows that Chebourg had higher fare amount than Queenstown and Southampton. But very few people embarked from Chebourg Port. This means that rich people got in ship through Chebourg Port. Notice that chebourg had a survival percentage of ~55%(highest). This affirms the intuition that rich people had higher survival rate. The reason could be that they might have bribed the staff there to get in the boats first."
   ]
  },
  {
   "cell_type": "markdown",
   "metadata": {},
   "source": [
    "# 4. Conclusion"
   ]
  },
  {
   "cell_type": "markdown",
   "metadata": {},
   "source": [
    "From the intial Questions, I got most of my answers by various parts of data exploration during this assignment. I would like to go through each of the questions again to verify if I could answer them all.\n",
    "\n",
    "##### 1) What factors lead to survival on Titanic? Is it a particular type of gender (According to Kaggle women were more likely to survive than males), or a particlar age group (as a preference, children were sent in boats first), or is it a particular class of people (Upper class or lower class)?\n",
    "\n",
    "A)We did detailed analysis on each type of feature or column and tried to consider it with survival parameter. Clearly, females and children had the higher surviving rate. We also found out that mostly people in group range 0-9 survived the most. No person in the age group 70-79 survived. We also found that Passenger class did affect the survival of his/her. Rich people or people in Upper Class social status had higher survival rates. \n",
    "\n",
    "##### 2) How does family relations(siblings, parents, etc.) affect the rate of survival?\n",
    "\n",
    "A) People with larger family size had a very low survival chance and so did single persons(strangely). Passengers with family size of 2,3,4 had higher survival percentage as they might have involved females and children.\n",
    "\n",
    "##### 3) Is there a significance of Port of Embarkation on survival which is not so evident just by looking at the data columns?\n",
    " \n",
    "A) We Did detailed analysis on the relation between Port of Embarkation and survival. On that note we were able to make the conclusion that Rich people got in from Chebourg Port."
   ]
  },
  {
   "cell_type": "markdown",
   "metadata": {},
   "source": [
    "#### Limitations of analysis:  \n",
    "There were 3 columns: Age, Cabin and Embarked with missing values. For e.g. we choose to use median for missing age data, this can add noise to our data as this was imputed for more than 200 missing values which more than 20% of our data. In case of missing Embarkment values, we were sort of lucky as only 2 values were missing, and so using mode was to replace these values was not such a bad choice. We removed the column Cabin as there were so many missing values. This could be a limitation to our analysis as having cabin data could have some insights which we are keeping out of scope for now."
   ]
  },
  {
   "cell_type": "markdown",
   "metadata": {},
   "source": [
    "# 5. References"
   ]
  },
  {
   "cell_type": "markdown",
   "metadata": {},
   "source": [
    "- http://matplotlib.org/examples/pylab_examples/boxplot_demo.html\n",
    "- http://pandas.pydata.org/pandas-docs/stable/api.html"
   ]
  }
 ],
 "metadata": {
  "celltoolbar": "Raw Cell Format",
  "kernelspec": {
   "display_name": "Python 2",
   "language": "python",
   "name": "python2"
  },
  "language_info": {
   "codemirror_mode": {
    "name": "ipython",
    "version": 2
   },
   "file_extension": ".py",
   "mimetype": "text/x-python",
   "name": "python",
   "nbconvert_exporter": "python",
   "pygments_lexer": "ipython2",
   "version": "2.7.11"
  }
 },
 "nbformat": 4,
 "nbformat_minor": 0
}
